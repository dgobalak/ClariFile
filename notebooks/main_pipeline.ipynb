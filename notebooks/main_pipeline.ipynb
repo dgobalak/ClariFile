{
 "cells": [
  {
   "cell_type": "markdown",
   "metadata": {},
   "source": [
    "#### Main Pipeline\n",
    "By: Daniel Gobalakrishnan"
   ]
  },
  {
   "cell_type": "code",
   "execution_count": null,
   "metadata": {},
   "outputs": [],
   "source": [
    "import sys\n",
    "sys.path.append(\"../\")\n",
    "\n",
    "from src.inc.parser import Parser\n",
    "from src.inc.topic_selector import TopicSelector\n",
    "from src.inc.wiki_summarizer import WikiSummarizer"
   ]
  },
  {
   "cell_type": "markdown",
   "metadata": {},
   "source": [
    "_______________________\n",
    "Read text from a file using the Parser class. In this case, I extract the text from a PDF file."
   ]
  },
  {
   "cell_type": "code",
   "execution_count": null,
   "metadata": {},
   "outputs": [],
   "source": [
    "path = \"../samples/sample.pdf\"\n",
    "parser = Parser(path)\n",
    "text = parser.get_text()"
   ]
  },
  {
   "cell_type": "code",
   "execution_count": null,
   "metadata": {},
   "outputs": [],
   "source": [
    "print(text)"
   ]
  },
  {
   "cell_type": "markdown",
   "metadata": {},
   "source": [
    "_______________________\n",
    "Select keywords (named entites) from text using the TopicSelector class. It is set to use automatic language detection by default. The class can also extract a set number of common words in the text based on a given minimum frequency value. "
   ]
  },
  {
   "cell_type": "code",
   "execution_count": null,
   "metadata": {},
   "outputs": [],
   "source": [
    "text = \"\"\"Michael Jeffrey Jordan (born February 17, 1963), also known by his initials MJ, \n",
    "        is an American former professional basketball player and businessman. By acclamation, \n",
    "        Michael Jordan is the greatest basketball player of all time. He was integral in helping \n",
    "        to popularize the NBA around the world in the 1980s and 1990s, becoming a global cultural icon in the \n",
    "        process. He played 15 seasons in the NBA, winning six championships with the Chicago \n",
    "        Bulls. He is the principal owner and chairman of the Charlotte Hornets of the National \n",
    "        Basketball Association and of 23XI Racing in the NASCAR Cup Series.\"\"\"\n",
    "\n",
    "ts = TopicSelector(text=text, min_freq=2, lang=\"auto\", n_common_words=8)\n",
    "keywords = ts.get_keywords()"
   ]
  },
  {
   "cell_type": "code",
   "execution_count": null,
   "metadata": {},
   "outputs": [],
   "source": [
    "print(keywords)"
   ]
  },
  {
   "cell_type": "markdown",
   "metadata": {},
   "source": [
    "_______________________\n",
    "Find wiki pages for the keywords. Summarize each one using a frequency-based approach or a KMeansClusterer approach. The summaries can also be translated to a target language."
   ]
  },
  {
   "cell_type": "code",
   "execution_count": null,
   "metadata": {},
   "outputs": [],
   "source": [
    "keywords = ['National Basketball Association', 'Michael Jordan', 'Lebron James']\n",
    "wiki = WikiSummarizer(keywords=keywords, summarizer='freq', dist_metric='cosine', n_clusters=3,\n",
    "                      max_sent_len=30, summary_len=5, lang='auto', min_summary_char_len=100, target='french')\n",
    "summaries = wiki.get_summaries()"
   ]
  },
  {
   "cell_type": "code",
   "execution_count": null,
   "metadata": {},
   "outputs": [],
   "source": [
    "for keyword in summaries.keys():\n",
    "    print(keyword, \": \", summaries[keyword], \"\\n\")"
   ]
  }
 ],
 "metadata": {
  "interpreter": {
   "hash": "b55fb9c3b2ae460387b9f24a585a06d07a1c685c2da458447f8c89d29042cf89"
  },
  "kernelspec": {
   "display_name": "Python 3.8.10 64-bit ('venv': venv)",
   "name": "python3"
  },
  "language_info": {
   "codemirror_mode": {
    "name": "ipython",
    "version": 3
   },
   "file_extension": ".py",
   "mimetype": "text/x-python",
   "name": "python",
   "nbconvert_exporter": "python",
   "pygments_lexer": "ipython3",
   "version": "3.8.10"
  },
  "orig_nbformat": 4
 },
 "nbformat": 4,
 "nbformat_minor": 2
}
