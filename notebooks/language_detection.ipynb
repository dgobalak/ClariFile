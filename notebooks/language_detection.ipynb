{
 "cells": [
  {
   "cell_type": "code",
   "execution_count": null,
   "metadata": {},
   "outputs": [],
   "source": [
    "import sys\n",
    "sys.path.append(\"../\")\n",
    "\n",
    "from nltk.classify import textcat\n",
    "import pandas as pd"
   ]
  },
  {
   "cell_type": "markdown",
   "metadata": {},
   "source": [
    "_________________\n",
    "Language detection using NLTK"
   ]
  },
  {
   "cell_type": "code",
   "execution_count": null,
   "metadata": {},
   "outputs": [],
   "source": [
    "# Clean the language codes csv\n",
    "df = pd.read_csv(\"../datasets/Translation/language-codes.csv\")\n",
    "df[\"Code\"] = df[\"Alpha3t_Code\"].where(df[\"Alpha3t_Code\"].notnull(), df[\"Alpha3b_Code\"])\n",
    "df[\"English_Name\"] = df[\"English_Name\"].apply(lambda s: s.lower() if type(s) == str else s)\n",
    "df = df.drop([\"Alpha2_Code\", \"Alpha3b_Code\", \"Alpha3t_Code\", \"French_Name\"], 1)\n",
    "df = df.rename(columns={\"English_Name\": \"Name\"})\n",
    "df.to_csv(\"../datasets/Translation/clean-language-codes.csv\")\n",
    "df"
   ]
  },
  {
   "cell_type": "code",
   "execution_count": null,
   "metadata": {},
   "outputs": [],
   "source": [
    "def get_lang_code(text):\n",
    "    tc = textcat.TextCat()\n",
    "    code = tc.guess_language(text)\n",
    "    return code"
   ]
  },
  {
   "cell_type": "code",
   "execution_count": null,
   "metadata": {},
   "outputs": [],
   "source": [
    "def get_lang(df, text):\n",
    "    code = get_lang_code(text)\n",
    "    print(code)\n",
    "    lang = df.loc[df['Code'] == str(code), 'Name'].item()\n",
    "    return lang"
   ]
  },
  {
   "cell_type": "code",
   "execution_count": null,
   "metadata": {},
   "outputs": [],
   "source": [
    "text = \"While eating at a restaurant is an enjoyable and convenient occasional treat, most individuals and families prepare their meals at home. To make breakfast, lunch, and dinner daily, these persons must have the required foods and ingredients on hand and ready to go; foods and ingredients are typically purchased from a grocery store, or an establishment that distributes foods, drinks, household products, and other items that're used by the typical consumer.\"\n",
    "get_lang(df, text)"
   ]
  },
  {
   "cell_type": "code",
   "execution_count": null,
   "metadata": {},
   "outputs": [],
   "source": [
    "text = \"Le rouge est une couleur vive. C’est la couleur de nombreux fruits et légumes, comme les tomates, les fraises ou les cerises. Le jaune est la couleur des bananes, du maïs ou des poussins par exemple. Le bleu est très présent dans la nature : c’est la couleur du ciel et de la mer. Le rouge, le jaune et le bleu sont les trois couleurs primaires.\"\n",
    "get_lang(df, text)"
   ]
  }
 ],
 "metadata": {
  "interpreter": {
   "hash": "b55fb9c3b2ae460387b9f24a585a06d07a1c685c2da458447f8c89d29042cf89"
  },
  "kernelspec": {
   "display_name": "Python 3.8.10 64-bit ('venv': venv)",
   "name": "python3"
  },
  "language_info": {
   "codemirror_mode": {
    "name": "ipython",
    "version": 3
   },
   "file_extension": ".py",
   "mimetype": "text/x-python",
   "name": "python",
   "nbconvert_exporter": "python",
   "pygments_lexer": "ipython3",
   "version": "3.8.10"
  },
  "orig_nbformat": 4
 },
 "nbformat": 4,
 "nbformat_minor": 2
}
